{
 "cells": [
  {
   "cell_type": "code",
   "execution_count": 3,
   "metadata": {},
   "outputs": [
    {
     "name": "stdout",
     "output_type": "stream",
     "text": [
      "Using device: cuda\n",
      "English: This is an important message that needs accurate translation.\n",
      "French:\n",
      "- (score: -0.65) Il s'agit d'un message important qui a besoin d'une traduction précise.\n",
      "- (score: -0.70) Il s'agit d'un message important qui doit être traduit avec précision.\n",
      "- (score: -0.76) C'est un message important qui a besoin d'une traduction précise.\n",
      "- (score: -0.81) Il s'agit là d'un message important qui doit être traduit avec précision.\n"
     ]
    }
   ],
   "source": [
    "import torch\n",
    "from transformers import T5ForConditionalGeneration, T5Tokenizer\n",
    "\n",
    "class MultilingualTranslator:\n",
    "    def __init__(self, model_name=\"t5-base\"):\n",
    "        self.device = torch.device(\"cuda\" if torch.cuda.is_available() else \"cpu\")\n",
    "        print(f\"Using device: {self.device}\")\n",
    "\n",
    "        self.tokenizer = T5Tokenizer.from_pretrained(model_name, legacy=False)\n",
    "        self.model = T5ForConditionalGeneration.from_pretrained(model_name).to(self.device)\n",
    "\n",
    "    def translate(self, text, source_lang, target_lang):\n",
    "        \"\"\"Translate text and report the beam search scores\"\"\"\n",
    "        supported_lang = [\"English\", \"French\", \"German\", \"Spanish\", \"Portuguese\"]\n",
    "        if source_lang not in supported_lang:\n",
    "            raise ValueError(f\"Unsupported source language: {source_lang}\")\n",
    "        if target_lang not in supported_lang:\n",
    "            raise ValueError(f\"Unsupported target language: {target_lang}\")\n",
    "\n",
    "        # Prepare the input text\n",
    "        task_prefix = f\"translate {source_lang} to {target_lang}\"\n",
    "        input_text = f\"{task_prefix}: {text}\"\n",
    "        # Tokenize and generate translation\n",
    "        inputs = self.tokenizer(input_text, return_tensors=\"pt\", max_length=512, truncation=True)\n",
    "        inputs = inputs.to(self.device)\n",
    "        with torch.no_grad():\n",
    "            outputs = self.model.generate(**inputs, max_length=512, num_beams=4*4, num_beam_groups=4,\n",
    "                                        num_return_sequences=4, diversity_penalty=0.8,\n",
    "                                        length_penalty=0.6, early_stopping=True,\n",
    "                                        output_scores=True, return_dict_in_generate=True)\n",
    "        # Decode and return translation\n",
    "        translation = [self.tokenizer.decode(output, skip_special_tokens=True)\n",
    "                        for output in outputs.sequences]\n",
    "        return {\n",
    "            \"translation\": translation,\n",
    "            \"score\": [float(score) for score in outputs.sequences_scores],\n",
    "        }\n",
    "\n",
    "original_text = \"This is an important message that needs accurate translation.\"\n",
    "translator = MultilingualTranslator(\"t5-base\")\n",
    "output = translator.translate(original_text, \"English\", \"French\")\n",
    "print(f\"English: {original_text}\")\n",
    "print(\"French:\")\n",
    "for text, score in zip(output[\"translation\"], output[\"score\"]):\n",
    "    print(f\"- (score: {score:.2f}) {text}\")"
   ]
  },
  {
   "cell_type": "code",
   "execution_count": 5,
   "metadata": {},
   "outputs": [
    {
     "name": "stdout",
     "output_type": "stream",
     "text": [
      "Using device: cuda\n",
      "English: \n",
      "Machine translation has evolved significantly over the years. Early systems used\n",
      "rule-based approaches that defined grammatical rules for languages.  Statistical\n",
      "machine translation later emerged, using large corpora of translated texts to learn\n",
      "translation patterns automatically.\n",
      "\n",
      "French:\n",
      "- (score: -0.94, bleu: 26.49) La traduction automatique a beaucoup évolué au fil des ans. Les premiers systèmes utilisaient des approches fondées sur des règles qui définissaient des règles grammaticales pour les langues.\n",
      "- (score: -1.26, bleu: 56.78) La traduction automatique a beaucoup évolué au fil des ans. Les premiers systèmes utilisaient des approches fondées sur des règles qui définissaient des règles grammaticales pour les langues. La traduction automatique statistique s’est développée plus tard, en utilisant de vastes corpus de textes traduits pour apprendre automatiquement les schémas de traduction.\n",
      "- (score: -1.26, bleu: 56.41) La traduction automatique a beaucoup évolué au fil des ans. Les premiers systèmes utilisaient des approches fondées sur des règles qui définissaient des règles grammaticales pour les langues. La traduction automatique statistique a ultérieurement vu le jour, utilisant de vastes corpus de textes traduits pour apprendre automatiquement les schémas de traduction.\n",
      "- (score: -1.32, bleu: 53.79) La traduction automatique a beaucoup évolué au fil des ans. Les premiers systèmes utilisaient des approches fondées sur des règles qui définissaient des règles grammaticales pour les langues. La traduction automatique statistique a ultérieurement vu le jour, en utilisant de vastes corpus de textes traduits pour apprendre automatiquement les modes de traduction.\n"
     ]
    }
   ],
   "source": [
    "import sacrebleu\n",
    "\n",
    "sample_document = \"\"\"\n",
    "Machine translation has evolved significantly over the years. Early systems used\n",
    "rule-based approaches that defined grammatical rules for languages.  Statistical\n",
    "machine translation later emerged, using large corpora of translated texts to learn\n",
    "translation patterns automatically.\n",
    "\"\"\"\n",
    "reference_translation = \"\"\"\n",
    "La traduction automatique a considérablement évolué au fil des ans. Les premiers\n",
    "systèmes utilisaient des approches basées sur des règles définissant les règles\n",
    "grammaticales des langues. La traduction automatique statistique est apparue plus\n",
    "tard, utilisant de vastes corpus de textes traduits pour apprendre automatiquement\n",
    "des modèles de traduction.\n",
    "\"\"\"\n",
    "\n",
    "translator = MultilingualTranslator(\"t5-base\")\n",
    "output = translator.translate(sample_document, \"English\", \"French\")\n",
    "print(f\"English: {sample_document}\")\n",
    "print(\"French:\")\n",
    "for text, score in zip(output[\"translation\"], output[\"score\"]):\n",
    "    bleu = sacrebleu.corpus_bleu([text], [[reference_translation]])\n",
    "    print(f\"- (score: {score:.2f}, bleu: {bleu.score:.2f}) {text}\")"
   ]
  }
 ],
 "metadata": {
  "kernelspec": {
   "display_name": "base",
   "language": "python",
   "name": "python3"
  },
  "language_info": {
   "codemirror_mode": {
    "name": "ipython",
    "version": 3
   },
   "file_extension": ".py",
   "mimetype": "text/x-python",
   "name": "python",
   "nbconvert_exporter": "python",
   "pygments_lexer": "ipython3",
   "version": "3.11.10"
  }
 },
 "nbformat": 4,
 "nbformat_minor": 2
}
