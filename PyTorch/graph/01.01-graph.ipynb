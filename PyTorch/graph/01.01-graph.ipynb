{
 "cells": [
  {
   "cell_type": "markdown",
   "metadata": {},
   "source": [
    "https://machinelearningmastery.com/a-gentle-introduction-to-graph-neural-networks-in-python/"
   ]
  },
  {
   "cell_type": "code",
   "execution_count": 1,
   "metadata": {},
   "outputs": [],
   "source": [
    "import os\n",
    "import torch\n",
    "import torch.nn.functional as F\n",
    "from torch_geometric.data import Data\n",
    "from torch_geometric.nn import GCNConv"
   ]
  },
  {
   "cell_type": "code",
   "execution_count": 2,
   "metadata": {},
   "outputs": [],
   "source": [
    "# Define graph dataset\n",
    "edge_index = torch.tensor([\n",
    "    [0, 1, 0, 2, 0, 4, 2, 4],\n",
    "    [1, 0, 2, 0, 4, 0, 4, 2],\n",
    "], dtype=torch.long)"
   ]
  },
  {
   "cell_type": "code",
   "execution_count": 3,
   "metadata": {},
   "outputs": [],
   "source": [
    "# Define data features\n",
    "node_features = torch.tensor([\n",
    "    [25, 1],  # Person 0 (25 years old, likes sports)\n",
    "    [30, 0],  # Person 1 (30 years old, does not like sports)\n",
    "    [22, 1],  # Person 2 (22 years old, likes sports)\n",
    "    [35, 0],  # Person 3 (35 years old, does not like sports)\n",
    "    [27, 1],  # Person 4 (27 years old, likes sports)\n",
    "], dtype=torch.float)"
   ]
  },
  {
   "cell_type": "code",
   "execution_count": 4,
   "metadata": {},
   "outputs": [
    {
     "data": {
      "image/png": "[encoded data removed]",
      "text/plain": [
       "<Figure size 600x600 with 1 Axes>"
      ]
     },
     "metadata": {},
     "output_type": "display_data"
    }
   ],
   "source": [
    "import networkx as nx\n",
    "import matplotlib.pyplot as plt\n",
    "\n",
    "# Convert the edge_index tensor to a list of edge tuples\n",
    "edge_list = edge_index.t().tolist()\n",
    "\n",
    "# Create a NetworkX graph from the edge list\n",
    "G = nx.Graph()\n",
    "G.add_edges_from(edge_list)\n",
    "\n",
    "# Optionally, include nodes that might be isolated (e.g., person 3)\n",
    "G.add_nodes_from(range(node_features.size(0)))\n",
    "\n",
    "# Generate a layout for the nodes\n",
    "pos = nx.spring_layout(G, seed=42)  # fixed seed for reproducibility\n",
    "\n",
    "# Draw the graph with labels\n",
    "plt.figure(figsize=(6, 6))\n",
    "nx.draw_networkx(G, pos, with_labels=True, node_color='lightblue', edge_color='gray', node_size=800)\n",
    "plt.title(\"Visualization of the Social Network Graph\")\n",
    "plt.axis('off')\n",
    "plt.show()"
   ]
  },
  {
   "cell_type": "markdown",
   "metadata": {},
   "source": [
    "# Modelo"
   ]
  },
  {
   "cell_type": "code",
   "execution_count": 5,
   "metadata": {},
   "outputs": [],
   "source": [
    "# Define dataset labels\n",
    "num_friends = torch.tensor([3, 1, 2, 0, 3])\n",
    "labels = (num_friends >= 2).long()"
   ]
  },
  {
   "cell_type": "code",
   "execution_count": 6,
   "metadata": {},
   "outputs": [],
   "source": [
    "# Mask for separating training and testing data\n",
    "train_mask = torch.tensor([1, 1, 1, 0, 0], dtype=torch.bool)\n",
    "data = Data(x=node_features, edge_index=edge_index, y=labels, train_mask=train_mask)"
   ]
  },
  {
   "cell_type": "code",
   "execution_count": 7,
   "metadata": {},
   "outputs": [],
   "source": [
    "# Define model\n",
    "class GNN(torch.nn.Module):\n",
    "    def __init__(self, input_dim, hidden_dim, output_dim):\n",
    "        super(GNN, self).__init__()\n",
    "        self.conv1 = GCNConv(input_dim, hidden_dim) \n",
    "        self.conv2 = GCNConv(hidden_dim, output_dim)\n",
    "\n",
    "    def forward(self, data):\n",
    "        x, edge_index = data.x, data.edge_index\n",
    "        x = self.conv1(x, edge_index)\n",
    "        x = F.relu(x)  # Activation function\n",
    "        x = self.conv2(x, edge_index)\n",
    "        return x\n",
    "\n",
    "# Instantiate model\n",
    "model = GNN(input_dim=2, hidden_dim=4, output_dim=2)"
   ]
  },
  {
   "cell_type": "code",
   "execution_count": 8,
   "metadata": {},
   "outputs": [
    {
     "name": "stdout",
     "output_type": "stream",
     "text": [
      "Epoch 0, Loss: 7.9340\n",
      "Epoch 10, Loss: 4.0511\n",
      "Epoch 20, Loss: 1.4821\n",
      "Epoch 30, Loss: 0.7289\n",
      "Epoch 40, Loss: 0.6683\n",
      "Epoch 50, Loss: 0.6486\n",
      "Epoch 60, Loss: 0.6078\n",
      "Epoch 70, Loss: 0.6103\n",
      "Epoch 80, Loss: 0.6016\n",
      "Epoch 90, Loss: 0.5996\n"
     ]
    }
   ],
   "source": [
    "# Define optimizer\n",
    "optimizer = torch.optim.Adam(model.parameters(), lr=0.01)\n",
    "\n",
    "# Train model\n",
    "for epoch in range(100):\n",
    "    model.train()\n",
    "    optimizer.zero_grad()\n",
    "    \n",
    "    out = model(data)\n",
    "    loss = F.cross_entropy(out[data.train_mask], data.y[data.train_mask])\n",
    "    \n",
    "    loss.backward()\n",
    "    optimizer.step()\n",
    "\n",
    "    if epoch % 10 == 0:\n",
    "        print(f\"Epoch {epoch}, Loss: {loss.item():.4f}\")"
   ]
  },
  {
   "cell_type": "code",
   "execution_count": 9,
   "metadata": {},
   "outputs": [
    {
     "name": "stdout",
     "output_type": "stream",
     "text": [
      "\n",
      "Final Predictions (1=Popular, 0=Not Popular): [1, 1, 1, 1, 1]\n"
     ]
    }
   ],
   "source": [
    "# Test model\n",
    "model.eval()\n",
    "with torch.no_grad():\n",
    "    predictions = model(data).argmax(dim=1)\n",
    "\n",
    "print(\"\\nFinal Predictions (1=Popular, 0=Not Popular):\", predictions.tolist())"
   ]
  }
 ],
 "metadata": {
  "kernelspec": {
   "display_name": "base",
   "language": "python",
   "name": "python3"
  },
  "language_info": {
   "codemirror_mode": {
    "name": "ipython",
    "version": 3
   },
   "file_extension": ".py",
   "mimetype": "text/x-python",
   "name": "python",
   "nbconvert_exporter": "python",
   "pygments_lexer": "ipython3",
   "version": "3.11.10"
  }
 },
 "nbformat": 4,
 "nbformat_minor": 2
}
