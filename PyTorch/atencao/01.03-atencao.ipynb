{
 "cells": [
  {
   "cell_type": "code",
   "execution_count": 1,
   "metadata": {},
   "outputs": [
    {
     "name": "stdout",
     "output_type": "stream",
     "text": [
      "{'attention.in_proj_weight': torch.Size([48, 16]), 'attention.in_proj_bias': torch.Size([48]), 'attention.out_proj.weight': torch.Size([16, 16]), 'attention.out_proj.bias': torch.Size([16]), 'xattention.in_proj_weight': torch.Size([48, 16]), 'xattention.in_proj_bias': torch.Size([48]), 'xattention.out_proj.weight': torch.Size([16, 16]), 'xattention.out_proj.bias': torch.Size([16]), 'ff_proj.weight': torch.Size([32, 16]), 'ff_proj.bias': torch.Size([32]), 'output_proj.weight': torch.Size([16, 32]), 'output_proj.bias': torch.Size([16]), 'norm1.weight': torch.Size([16]), 'norm1.bias': torch.Size([16]), 'norm2.weight': torch.Size([16]), 'norm2.bias': torch.Size([16]), 'norm3.weight': torch.Size([16]), 'norm3.bias': torch.Size([16])}\n",
      "torch.Size([3, 7, 16])\n"
     ]
    }
   ],
   "source": [
    "import torch\n",
    "import torch.nn as nn\n",
    "\n",
    "class TransformerDecoderLayer(nn.Module):\n",
    "    def __init__(self, d_model, d_ff, num_heads):\n",
    "        super().__init__()\n",
    "        self.attention = nn.MultiheadAttention(d_model, num_heads, batch_first=True)\n",
    "        self.xattention = nn.MultiheadAttention(d_model, num_heads, batch_first=True)\n",
    "        self.ff_proj = nn.Linear(d_model, d_ff)\n",
    "        self.output_proj = nn.Linear(d_ff, d_model)\n",
    "        self.norm1 = nn.LayerNorm(d_model)\n",
    "        self.norm2 = nn.LayerNorm(d_model)\n",
    "        self.norm3 = nn.LayerNorm(d_model)\n",
    "        self.act = nn.ReLU()\n",
    "\n",
    "    def forward(self, x, y):\n",
    "        \"\"\"Process the input sequence x with decoder input y\n",
    "\n",
    "        Args:\n",
    "            x (torch.Tensor): The input sequence of shape (batch_size, seq_len, d_model).\n",
    "            y (torch.Tensor): The output sequence from encoder of shape (batch_size, seq_len, d_model).\n",
    "\n",
    "        Returns:\n",
    "            torch.Tensor: The processed sequence of shape (batch_size, seq_len, d_model).\n",
    "        \"\"\"\n",
    "        # Self-attention sublayer\n",
    "        residual = x\n",
    "        x = self.norm1(x)\n",
    "        x = self.attention(x, x, x)\n",
    "        x = x[0] + residual\n",
    "\n",
    "        # Cross-attention sublayer\n",
    "        residual = x\n",
    "        x = self.norm2(x)\n",
    "        x = self.xattention(x, y, y)\n",
    "        x = x[0] + residual\n",
    "\n",
    "        # Feed-forward sublayer\n",
    "        residual = x\n",
    "        x = self.norm3(x)\n",
    "        x = self.act(self.ff_proj(x))\n",
    "        x = self.act(self.output_proj(x))\n",
    "        x = x + residual\n",
    "\n",
    "        return x\n",
    "\n",
    "dec_seq = torch.randn(3, 7, 16)\n",
    "enc_seq = torch.randn(3, 11, 16)\n",
    "layer = TransformerDecoderLayer(16, 32, 4)\n",
    "out_seq = layer(dec_seq, enc_seq)\n",
    "print({name: weight.shape for name, weight in layer.state_dict().items()})\n",
    "print(out_seq.shape)"
   ]
  }
 ],
 "metadata": {
  "kernelspec": {
   "display_name": "base",
   "language": "python",
   "name": "python3"
  },
  "language_info": {
   "codemirror_mode": {
    "name": "ipython",
    "version": 3
   },
   "file_extension": ".py",
   "mimetype": "text/x-python",
   "name": "python",
   "nbconvert_exporter": "python",
   "pygments_lexer": "ipython3",
   "version": "3.11.10"
  }
 },
 "nbformat": 4,
 "nbformat_minor": 2
}
