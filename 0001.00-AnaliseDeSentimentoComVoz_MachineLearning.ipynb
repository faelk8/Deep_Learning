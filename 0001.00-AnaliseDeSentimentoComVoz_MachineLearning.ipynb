{
 "cells": [
  {
   "cell_type": "markdown",
   "metadata": {},
   "source": [
    "Conjunto de Dados\n",
    "\n",
    "https://zenodo.org/record/1188976"
   ]
  },
  {
   "cell_type": "code",
   "execution_count": 1,
   "metadata": {
    "colab": {},
    "colab_type": "code",
    "id": "4shbaHxJiq6q"
   },
   "outputs": [],
   "source": [
    "# Imports\n",
    "import joblib\n",
    "import numpy as np\n",
    "import pandas as pd\n",
    "import matplotlib\n",
    "import matplotlib.pyplot as plt\n",
    "import librosa as lr\n",
    "import librosa.display\n",
    "import seaborn as sns\n",
    "import xgboost\n",
    "import sklearn\n",
    "from glob import glob\n",
    "from joblib import load\n",
    "from sklearn.preprocessing import LabelEncoder, StandardScaler\n",
    "from sklearn.model_selection import train_test_split\n",
    "from xgboost import XGBClassifier\n",
    "from sklearn.tree import DecisionTreeClassifier\n",
    "from sklearn.ensemble import RandomForestClassifier\n",
    "from sklearn.metrics import accuracy_score, confusion_matrix\n",
    "%matplotlib inline\n",
    "import warnings\n",
    "warnings.filterwarnings('ignore')"
   ]
  },
  {
   "cell_type": "code",
   "execution_count": 2,
   "metadata": {
    "colab": {},
    "colab_type": "code",
    "id": "qZRgmEOtob7v"
   },
   "outputs": [],
   "source": [
    "\n",
    "diretorio = 'dados'\n",
    "# Dicionários para receber os resultados do loop\n",
    "arquivos = {}\n",
    "taxa_amostragem = {}\n",
    "\n",
    "# Loop pelo diretório com os arquivos de áudio\n",
    "for itens in range(1,25):\n",
    "    if len(str(itens)) == 1:\n",
    "        audio_dir = diretorio + '/Actor_' + str('0') + str(itens)\n",
    "    else:\n",
    "        audio_dir = diretorio + '/Actor_' + str(itens)\n",
    "    \n",
    "    # Armazena o caminho para todos os arquivos de um diretório\n",
    "    audio_files = glob(audio_dir + '/*.wav')\n",
    "        \n",
    "    # Armazena o caminho e a taxa de amostragem de cada arquivo na pasta\n",
    "    for i in range(len(audio_files)):\n",
    "        x = audio_files[i]\n",
    "        audio, sfreq = lr.load(audio_files[i], sr = None)\n",
    "        arquivos[x] = len(audio) / sfreq\n",
    "        taxa_amostragem[x] = sfreq"
   ]
  },
  {
   "cell_type": "code",
   "execution_count": 3,
   "metadata": {},
   "outputs": [
    {
     "data": {
      "text/plain": [
       "[48000, 48000, 48000, 48000, 48000, 48000, 48000, 48000, 48000, 48000]"
      ]
     },
     "execution_count": 3,
     "metadata": {},
     "output_type": "execute_result"
    }
   ],
   "source": [
    "# Obtém as taxas de amostragem dos arquivos\n",
    "[taxa_amostragem[i] for i in list(taxa_amostragem.keys())[:10]]"
   ]
  },
  {
   "cell_type": "code",
   "execution_count": 4,
   "metadata": {},
   "outputs": [
    {
     "data": {
      "text/plain": [
       "True"
      ]
     },
     "execution_count": 4,
     "metadata": {},
     "output_type": "execute_result"
    }
   ],
   "source": [
    "# Verifica se todas as taxas de amostragem são iguais\n",
    "all(value == 48000 for value in taxa_amostragem.values())"
   ]
  },
  {
   "cell_type": "code",
   "execution_count": 5,
   "metadata": {},
   "outputs": [],
   "source": [
    "# Cria um dataframe para receber a lista de caminhos dos arquivos\n",
    "arquivos_audio = pd.DataFrame()"
   ]
  },
  {
   "cell_type": "code",
   "execution_count": 6,
   "metadata": {},
   "outputs": [],
   "source": [
    "# Carrega o dataframe\n",
    "for keys, values in arquivos.items():\n",
    "    arquivos_audio.at[keys,'lengthoffile'] = values   "
   ]
  },
  {
   "cell_type": "code",
   "execution_count": 7,
   "metadata": {},
   "outputs": [
    {
     "data": {
      "text/html": [
       "<div>\n",
       "<style scoped>\n",
       "    .dataframe tbody tr th:only-of-type {\n",
       "        vertical-align: middle;\n",
       "    }\n",
       "\n",
       "    .dataframe tbody tr th {\n",
       "        vertical-align: top;\n",
       "    }\n",
       "\n",
       "    .dataframe thead th {\n",
       "        text-align: right;\n",
       "    }\n",
       "</style>\n",
       "<table border=\"1\" class=\"dataframe\">\n",
       "  <thead>\n",
       "    <tr style=\"text-align: right;\">\n",
       "      <th></th>\n",
       "      <th>lengthoffile</th>\n",
       "    </tr>\n",
       "  </thead>\n",
       "  <tbody>\n",
       "    <tr>\n",
       "      <th>dados/Actor_01/03-02-06-01-02-02-01.wav</th>\n",
       "      <td>4.437771</td>\n",
       "    </tr>\n",
       "    <tr>\n",
       "      <th>dados/Actor_01/03-02-01-01-01-01-01.wav</th>\n",
       "      <td>4.237583</td>\n",
       "    </tr>\n",
       "    <tr>\n",
       "      <th>dados/Actor_01/03-02-05-01-01-01-01.wav</th>\n",
       "      <td>4.371021</td>\n",
       "    </tr>\n",
       "    <tr>\n",
       "      <th>dados/Actor_01/03-02-05-01-01-02-01.wav</th>\n",
       "      <td>4.771438</td>\n",
       "    </tr>\n",
       "    <tr>\n",
       "      <th>dados/Actor_01/03-02-03-01-02-01-01.wav</th>\n",
       "      <td>4.337667</td>\n",
       "    </tr>\n",
       "  </tbody>\n",
       "</table>\n",
       "</div>"
      ],
      "text/plain": [
       "                                         lengthoffile\n",
       "dados/Actor_01/03-02-06-01-02-02-01.wav      4.437771\n",
       "dados/Actor_01/03-02-01-01-01-01-01.wav      4.237583\n",
       "dados/Actor_01/03-02-05-01-01-01-01.wav      4.371021\n",
       "dados/Actor_01/03-02-05-01-01-02-01.wav      4.771438\n",
       "dados/Actor_01/03-02-03-01-02-01-01.wav      4.337667"
      ]
     },
     "execution_count": 7,
     "metadata": {},
     "output_type": "execute_result"
    }
   ],
   "source": [
    "# Visualiza os dados\n",
    "arquivos_audio.head()"
   ]
  },
  {
   "cell_type": "code",
   "execution_count": 8,
   "metadata": {
    "colab": {},
    "colab_type": "code",
    "id": "UM_wmcPjoplE"
   },
   "outputs": [],
   "source": [
    "# Cria uma função para retornar os arquivos de áudio e a taxa de amostragem de cada arquivo\n",
    "def extrai_audio_data(file):\n",
    "    audio, sfreq = lr.load(file, sr = None)\n",
    "    return audio, sfreq"
   ]
  },
  {
   "cell_type": "code",
   "execution_count": 9,
   "metadata": {},
   "outputs": [
    {
     "name": "stdout",
     "output_type": "stream",
     "text": [
      "\n",
      "Shape da Série Representando o Áudio (y): (213013,) \n",
      "Taxa de Amostragem (sr): 48000\n"
     ]
    }
   ],
   "source": [
    "# Vamos verificar o shape dos arquivos de áudio e taxa de amostragem\n",
    "audio, sfreq = extrai_audio_data(arquivos_audio.index[0])\n",
    "print(f'\\nShape da Série Representando o Áudio (y): {audio.shape} \\nTaxa de Amostragem (sr): {sfreq}')"
   ]
  },
  {
   "cell_type": "code",
   "execution_count": 10,
   "metadata": {},
   "outputs": [],
   "source": [
    "# Cria uma função para extrair o MFCC de um dado arquivo\n",
    "def mfcc_extract(file):\n",
    "    audio, sfreq = extrai_audio_data(file)\n",
    "    mfccs = librosa.feature.mfcc(audio, sr = sfreq)\n",
    "    return mfccs"
   ]
  },
  {
   "cell_type": "code",
   "execution_count": 11,
   "metadata": {},
   "outputs": [],
   "source": [
    "# Cria uma lista vazia\n",
    "list_data_frame = []"
   ]
  },
  {
   "cell_type": "code",
   "execution_count": 12,
   "metadata": {
    "colab": {},
    "colab_type": "code",
    "id": "tuTpzYvDo-rv"
   },
   "outputs": [],
   "source": [
    "# Considere o arquivo: '03-01-06-01-02-01-12.wav'\n",
    "\n",
    "# Esse arquivo é:\n",
    "\n",
    "# Somente áudio(03) \n",
    "# Discurso(01) \n",
    "# Medo(06) \n",
    "# Intensidade normal(01) \n",
    "# Declaração \"cães\"(02) \n",
    "# 1ª repetição(01) \n",
    "# 12º ator(12) Mulher.\n",
    "\n",
    "# Vamos fazer um loop e extrair os detalhes acima de todos os arquivos.\n",
    "\n",
    "# Loop por cada arquivo\n",
    "for file_path in arquivos_audio.index:\n",
    "    \n",
    "    # Chamamos a função de extração mfcc para retornar coeficientes e dados mfcc\n",
    "    data = mfcc_extract(file_path)\n",
    "    \n",
    "    # Transformamos os dados no formato (n samples, n features)\n",
    "    frame = pd.DataFrame(data.T, columns = ['mfcc' + str(x) for x in range(0,20)])\n",
    "\n",
    "    \n",
    "    # Extraímos gênero do ator do arquivo usando o encoding\n",
    "    frame['ID_ATOR_SEXO'] = file_path[33:35]\n",
    "    \n",
    "    # Extraímos o código da emoção do arquivo usando o encoding\n",
    "    frame['ID_EMOCAO'] = file_path[21:23]\n",
    "    \n",
    "    # Extraímos a intensidade da emoção do arquivo usando o encoding\n",
    "    frame['ID_INTENSIDADE_EMOCIONAL'] = file_path[24:26]    \n",
    "    \n",
    "    # Inclui na lista\n",
    "    list_data_frame.append(frame)"
   ]
  },
  {
   "cell_type": "code",
   "execution_count": 13,
   "metadata": {},
   "outputs": [],
   "source": [
    "# Concatena os elementos da lista em um dataframe\n",
    "df_dados_audio = pd.concat(list_data_frame, ignore_index = True)"
   ]
  },
  {
   "cell_type": "code",
   "execution_count": 14,
   "metadata": {},
   "outputs": [
    {
     "data": {
      "text/html": [
       "<div>\n",
       "<style scoped>\n",
       "    .dataframe tbody tr th:only-of-type {\n",
       "        vertical-align: middle;\n",
       "    }\n",
       "\n",
       "    .dataframe tbody tr th {\n",
       "        vertical-align: top;\n",
       "    }\n",
       "\n",
       "    .dataframe thead th {\n",
       "        text-align: right;\n",
       "    }\n",
       "</style>\n",
       "<table border=\"1\" class=\"dataframe\">\n",
       "  <thead>\n",
       "    <tr style=\"text-align: right;\">\n",
       "      <th></th>\n",
       "      <th>mfcc0</th>\n",
       "      <th>mfcc1</th>\n",
       "      <th>mfcc2</th>\n",
       "      <th>mfcc3</th>\n",
       "      <th>mfcc4</th>\n",
       "      <th>mfcc5</th>\n",
       "      <th>mfcc6</th>\n",
       "      <th>mfcc7</th>\n",
       "      <th>mfcc8</th>\n",
       "      <th>mfcc9</th>\n",
       "      <th>...</th>\n",
       "      <th>mfcc13</th>\n",
       "      <th>mfcc14</th>\n",
       "      <th>mfcc15</th>\n",
       "      <th>mfcc16</th>\n",
       "      <th>mfcc17</th>\n",
       "      <th>mfcc18</th>\n",
       "      <th>mfcc19</th>\n",
       "      <th>ID_ATOR_SEXO</th>\n",
       "      <th>ID_EMOCAO</th>\n",
       "      <th>ID_INTENSIDADE_EMOCIONAL</th>\n",
       "    </tr>\n",
       "  </thead>\n",
       "  <tbody>\n",
       "    <tr>\n",
       "      <th>0</th>\n",
       "      <td>-736.889404</td>\n",
       "      <td>0.000000</td>\n",
       "      <td>0.000000</td>\n",
       "      <td>0.000000</td>\n",
       "      <td>0.000000</td>\n",
       "      <td>0.000000</td>\n",
       "      <td>0.000000</td>\n",
       "      <td>0.000000</td>\n",
       "      <td>0.000000</td>\n",
       "      <td>0.000000</td>\n",
       "      <td>...</td>\n",
       "      <td>0.000000</td>\n",
       "      <td>0.000000</td>\n",
       "      <td>0.000000</td>\n",
       "      <td>0.000000</td>\n",
       "      <td>0.000000</td>\n",
       "      <td>0.000000</td>\n",
       "      <td>0.000000</td>\n",
       "      <td>01</td>\n",
       "      <td>06</td>\n",
       "      <td>01</td>\n",
       "    </tr>\n",
       "    <tr>\n",
       "      <th>1</th>\n",
       "      <td>-736.889404</td>\n",
       "      <td>0.000000</td>\n",
       "      <td>0.000000</td>\n",
       "      <td>0.000000</td>\n",
       "      <td>0.000000</td>\n",
       "      <td>0.000000</td>\n",
       "      <td>0.000000</td>\n",
       "      <td>0.000000</td>\n",
       "      <td>0.000000</td>\n",
       "      <td>0.000000</td>\n",
       "      <td>...</td>\n",
       "      <td>0.000000</td>\n",
       "      <td>0.000000</td>\n",
       "      <td>0.000000</td>\n",
       "      <td>0.000000</td>\n",
       "      <td>0.000000</td>\n",
       "      <td>0.000000</td>\n",
       "      <td>0.000000</td>\n",
       "      <td>01</td>\n",
       "      <td>06</td>\n",
       "      <td>01</td>\n",
       "    </tr>\n",
       "    <tr>\n",
       "      <th>2</th>\n",
       "      <td>-736.889404</td>\n",
       "      <td>0.000000</td>\n",
       "      <td>0.000000</td>\n",
       "      <td>0.000000</td>\n",
       "      <td>0.000000</td>\n",
       "      <td>0.000000</td>\n",
       "      <td>0.000000</td>\n",
       "      <td>0.000000</td>\n",
       "      <td>0.000000</td>\n",
       "      <td>0.000000</td>\n",
       "      <td>...</td>\n",
       "      <td>0.000000</td>\n",
       "      <td>0.000000</td>\n",
       "      <td>0.000000</td>\n",
       "      <td>0.000000</td>\n",
       "      <td>0.000000</td>\n",
       "      <td>0.000000</td>\n",
       "      <td>0.000000</td>\n",
       "      <td>01</td>\n",
       "      <td>06</td>\n",
       "      <td>01</td>\n",
       "    </tr>\n",
       "    <tr>\n",
       "      <th>3</th>\n",
       "      <td>-735.132080</td>\n",
       "      <td>2.316768</td>\n",
       "      <td>1.849498</td>\n",
       "      <td>1.178376</td>\n",
       "      <td>0.412101</td>\n",
       "      <td>-0.361496</td>\n",
       "      <td>-1.079493</td>\n",
       "      <td>-1.683317</td>\n",
       "      <td>-2.101268</td>\n",
       "      <td>-2.258119</td>\n",
       "      <td>...</td>\n",
       "      <td>-0.346293</td>\n",
       "      <td>0.321060</td>\n",
       "      <td>0.885656</td>\n",
       "      <td>1.314950</td>\n",
       "      <td>1.584855</td>\n",
       "      <td>1.662810</td>\n",
       "      <td>1.519631</td>\n",
       "      <td>01</td>\n",
       "      <td>06</td>\n",
       "      <td>01</td>\n",
       "    </tr>\n",
       "    <tr>\n",
       "      <th>4</th>\n",
       "      <td>-736.397583</td>\n",
       "      <td>0.652058</td>\n",
       "      <td>0.527373</td>\n",
       "      <td>0.337825</td>\n",
       "      <td>0.108193</td>\n",
       "      <td>-0.131628</td>\n",
       "      <td>-0.350683</td>\n",
       "      <td>-0.521074</td>\n",
       "      <td>-0.621674</td>\n",
       "      <td>-0.640843</td>\n",
       "      <td>...</td>\n",
       "      <td>-0.043789</td>\n",
       "      <td>0.165749</td>\n",
       "      <td>0.344082</td>\n",
       "      <td>0.468152</td>\n",
       "      <td>0.522754</td>\n",
       "      <td>0.502827</td>\n",
       "      <td>0.413638</td>\n",
       "      <td>01</td>\n",
       "      <td>06</td>\n",
       "      <td>01</td>\n",
       "    </tr>\n",
       "  </tbody>\n",
       "</table>\n",
       "<p>5 rows × 23 columns</p>\n",
       "</div>"
      ],
      "text/plain": [
       "        mfcc0     mfcc1     mfcc2     mfcc3     mfcc4     mfcc5     mfcc6  \\\n",
       "0 -736.889404  0.000000  0.000000  0.000000  0.000000  0.000000  0.000000   \n",
       "1 -736.889404  0.000000  0.000000  0.000000  0.000000  0.000000  0.000000   \n",
       "2 -736.889404  0.000000  0.000000  0.000000  0.000000  0.000000  0.000000   \n",
       "3 -735.132080  2.316768  1.849498  1.178376  0.412101 -0.361496 -1.079493   \n",
       "4 -736.397583  0.652058  0.527373  0.337825  0.108193 -0.131628 -0.350683   \n",
       "\n",
       "      mfcc7     mfcc8     mfcc9  ...    mfcc13    mfcc14    mfcc15    mfcc16  \\\n",
       "0  0.000000  0.000000  0.000000  ...  0.000000  0.000000  0.000000  0.000000   \n",
       "1  0.000000  0.000000  0.000000  ...  0.000000  0.000000  0.000000  0.000000   \n",
       "2  0.000000  0.000000  0.000000  ...  0.000000  0.000000  0.000000  0.000000   \n",
       "3 -1.683317 -2.101268 -2.258119  ... -0.346293  0.321060  0.885656  1.314950   \n",
       "4 -0.521074 -0.621674 -0.640843  ... -0.043789  0.165749  0.344082  0.468152   \n",
       "\n",
       "     mfcc17    mfcc18    mfcc19  ID_ATOR_SEXO  ID_EMOCAO  \\\n",
       "0  0.000000  0.000000  0.000000            01         06   \n",
       "1  0.000000  0.000000  0.000000            01         06   \n",
       "2  0.000000  0.000000  0.000000            01         06   \n",
       "3  1.584855  1.662810  1.519631            01         06   \n",
       "4  0.522754  0.502827  0.413638            01         06   \n",
       "\n",
       "   ID_INTENSIDADE_EMOCIONAL  \n",
       "0                        01  \n",
       "1                        01  \n",
       "2                        01  \n",
       "3                        01  \n",
       "4                        01  \n",
       "\n",
       "[5 rows x 23 columns]"
      ]
     },
     "execution_count": 14,
     "metadata": {},
     "output_type": "execute_result"
    }
   ],
   "source": [
    "# O dataset está quase pronto. \n",
    "# Precisamos apenas incluir os labels para compreender o que temos em cada arquivo de áudio.\n",
    "df_dados_audio.head()"
   ]
  },
  {
   "cell_type": "code",
   "execution_count": 15,
   "metadata": {},
   "outputs": [],
   "source": [
    "# Define o label para o gênero da voz a partir do código de gênero, sendo ímpar para masculino e par para feminino\n",
    "df_dados_audio[\"LABEL_GENERO\"] = list(map(lambda x: 'homem' if int(x)%2 == 1 else 'mulher',\n",
    "                                          df_dados_audio.ID_ATOR_SEXO))"
   ]
  },
  {
   "cell_type": "code",
   "execution_count": 16,
   "metadata": {},
   "outputs": [],
   "source": [
    "# Label para a emoção\n",
    "df_dados_audio['LABEL_EMOCAO'] = df_dados_audio.ID_EMOCAO.map({'01':'neutro',\n",
    "                                                               '02':'calmo',\n",
    "                                                               '03':'feliz',\n",
    "                                                               '04':'triste',\n",
    "                                                               '05':'zangado',\n",
    "                                                               '06':'medo',\n",
    "                                                               '07':'nojo',\n",
    "                                                               '08':'surpreso'})"
   ]
  },
  {
   "cell_type": "code",
   "execution_count": 17,
   "metadata": {},
   "outputs": [],
   "source": [
    "# Intensidade emocional normal ou forte \n",
    "df_dados_audio['LABEL_INTENSIDADE'] = df_dados_audio.ID_INTENSIDADE_EMOCIONAL.map({'01':'normal',\n",
    "                                                                                   '02':'forte'})"
   ]
  },
  {
   "cell_type": "code",
   "execution_count": 18,
   "metadata": {
    "colab": {},
    "colab_type": "code",
    "id": "pESu_jhCwkQi"
   },
   "outputs": [],
   "source": [
    "# Gênero e emoção da voz no áudio\n",
    "df_dados_audio['LABEL_GENERO_EMOCAO'] = df_dados_audio['LABEL_GENERO'] + \"_\" + df_dados_audio['LABEL_EMOCAO']\n",
    "df_final = df_dados_audio"
   ]
  },
  {
   "cell_type": "code",
   "execution_count": 19,
   "metadata": {},
   "outputs": [
    {
     "data": {
      "text/plain": [
       "(441586, 27)"
      ]
     },
     "execution_count": 19,
     "metadata": {},
     "output_type": "execute_result"
    }
   ],
   "source": [
    "# Shape\n",
    "df_final.shape"
   ]
  },
  {
   "cell_type": "code",
   "execution_count": 20,
   "metadata": {},
   "outputs": [
    {
     "data": {
      "text/plain": [
       "mfcc0                       float32\n",
       "mfcc1                       float32\n",
       "mfcc2                       float32\n",
       "mfcc3                       float32\n",
       "mfcc4                       float32\n",
       "mfcc5                       float32\n",
       "mfcc6                       float32\n",
       "mfcc7                       float32\n",
       "mfcc8                       float32\n",
       "mfcc9                       float32\n",
       "mfcc10                      float32\n",
       "mfcc11                      float32\n",
       "mfcc12                      float32\n",
       "mfcc13                      float32\n",
       "mfcc14                      float32\n",
       "mfcc15                      float32\n",
       "mfcc16                      float32\n",
       "mfcc17                      float32\n",
       "mfcc18                      float32\n",
       "mfcc19                      float32\n",
       "ID_ATOR_SEXO                 object\n",
       "ID_EMOCAO                    object\n",
       "ID_INTENSIDADE_EMOCIONAL     object\n",
       "LABEL_GENERO                 object\n",
       "LABEL_EMOCAO                 object\n",
       "LABEL_INTENSIDADE            object\n",
       "LABEL_GENERO_EMOCAO          object\n",
       "dtype: object"
      ]
     },
     "execution_count": 20,
     "metadata": {},
     "output_type": "execute_result"
    }
   ],
   "source": [
    "# Tipos de Dados\n",
    "df_final.dtypes"
   ]
  },
  {
   "cell_type": "code",
   "execution_count": 21,
   "metadata": {},
   "outputs": [
    {
     "data": {
      "text/html": [
       "<div>\n",
       "<style scoped>\n",
       "    .dataframe tbody tr th:only-of-type {\n",
       "        vertical-align: middle;\n",
       "    }\n",
       "\n",
       "    .dataframe tbody tr th {\n",
       "        vertical-align: top;\n",
       "    }\n",
       "\n",
       "    .dataframe thead th {\n",
       "        text-align: right;\n",
       "    }\n",
       "</style>\n",
       "<table border=\"1\" class=\"dataframe\">\n",
       "  <thead>\n",
       "    <tr style=\"text-align: right;\">\n",
       "      <th></th>\n",
       "      <th>mfcc0</th>\n",
       "      <th>mfcc1</th>\n",
       "      <th>mfcc2</th>\n",
       "      <th>mfcc3</th>\n",
       "      <th>mfcc4</th>\n",
       "      <th>mfcc5</th>\n",
       "      <th>mfcc6</th>\n",
       "      <th>mfcc7</th>\n",
       "      <th>mfcc8</th>\n",
       "      <th>mfcc9</th>\n",
       "      <th>...</th>\n",
       "      <th>mfcc17</th>\n",
       "      <th>mfcc18</th>\n",
       "      <th>mfcc19</th>\n",
       "      <th>ID_ATOR_SEXO</th>\n",
       "      <th>ID_EMOCAO</th>\n",
       "      <th>ID_INTENSIDADE_EMOCIONAL</th>\n",
       "      <th>LABEL_GENERO</th>\n",
       "      <th>LABEL_EMOCAO</th>\n",
       "      <th>LABEL_INTENSIDADE</th>\n",
       "      <th>LABEL_GENERO_EMOCAO</th>\n",
       "    </tr>\n",
       "  </thead>\n",
       "  <tbody>\n",
       "    <tr>\n",
       "      <th>0</th>\n",
       "      <td>-736.889404</td>\n",
       "      <td>0.000000</td>\n",
       "      <td>0.000000</td>\n",
       "      <td>0.000000</td>\n",
       "      <td>0.000000</td>\n",
       "      <td>0.000000</td>\n",
       "      <td>0.000000</td>\n",
       "      <td>0.000000</td>\n",
       "      <td>0.000000</td>\n",
       "      <td>0.000000</td>\n",
       "      <td>...</td>\n",
       "      <td>0.000000</td>\n",
       "      <td>0.000000</td>\n",
       "      <td>0.000000</td>\n",
       "      <td>01</td>\n",
       "      <td>06</td>\n",
       "      <td>01</td>\n",
       "      <td>homem</td>\n",
       "      <td>medo</td>\n",
       "      <td>normal</td>\n",
       "      <td>homem_medo</td>\n",
       "    </tr>\n",
       "    <tr>\n",
       "      <th>1</th>\n",
       "      <td>-736.889404</td>\n",
       "      <td>0.000000</td>\n",
       "      <td>0.000000</td>\n",
       "      <td>0.000000</td>\n",
       "      <td>0.000000</td>\n",
       "      <td>0.000000</td>\n",
       "      <td>0.000000</td>\n",
       "      <td>0.000000</td>\n",
       "      <td>0.000000</td>\n",
       "      <td>0.000000</td>\n",
       "      <td>...</td>\n",
       "      <td>0.000000</td>\n",
       "      <td>0.000000</td>\n",
       "      <td>0.000000</td>\n",
       "      <td>01</td>\n",
       "      <td>06</td>\n",
       "      <td>01</td>\n",
       "      <td>homem</td>\n",
       "      <td>medo</td>\n",
       "      <td>normal</td>\n",
       "      <td>homem_medo</td>\n",
       "    </tr>\n",
       "    <tr>\n",
       "      <th>2</th>\n",
       "      <td>-736.889404</td>\n",
       "      <td>0.000000</td>\n",
       "      <td>0.000000</td>\n",
       "      <td>0.000000</td>\n",
       "      <td>0.000000</td>\n",
       "      <td>0.000000</td>\n",
       "      <td>0.000000</td>\n",
       "      <td>0.000000</td>\n",
       "      <td>0.000000</td>\n",
       "      <td>0.000000</td>\n",
       "      <td>...</td>\n",
       "      <td>0.000000</td>\n",
       "      <td>0.000000</td>\n",
       "      <td>0.000000</td>\n",
       "      <td>01</td>\n",
       "      <td>06</td>\n",
       "      <td>01</td>\n",
       "      <td>homem</td>\n",
       "      <td>medo</td>\n",
       "      <td>normal</td>\n",
       "      <td>homem_medo</td>\n",
       "    </tr>\n",
       "    <tr>\n",
       "      <th>3</th>\n",
       "      <td>-735.132080</td>\n",
       "      <td>2.316768</td>\n",
       "      <td>1.849498</td>\n",
       "      <td>1.178376</td>\n",
       "      <td>0.412101</td>\n",
       "      <td>-0.361496</td>\n",
       "      <td>-1.079493</td>\n",
       "      <td>-1.683317</td>\n",
       "      <td>-2.101268</td>\n",
       "      <td>-2.258119</td>\n",
       "      <td>...</td>\n",
       "      <td>1.584855</td>\n",
       "      <td>1.662810</td>\n",
       "      <td>1.519631</td>\n",
       "      <td>01</td>\n",
       "      <td>06</td>\n",
       "      <td>01</td>\n",
       "      <td>homem</td>\n",
       "      <td>medo</td>\n",
       "      <td>normal</td>\n",
       "      <td>homem_medo</td>\n",
       "    </tr>\n",
       "    <tr>\n",
       "      <th>4</th>\n",
       "      <td>-736.397583</td>\n",
       "      <td>0.652058</td>\n",
       "      <td>0.527373</td>\n",
       "      <td>0.337825</td>\n",
       "      <td>0.108193</td>\n",
       "      <td>-0.131628</td>\n",
       "      <td>-0.350683</td>\n",
       "      <td>-0.521074</td>\n",
       "      <td>-0.621674</td>\n",
       "      <td>-0.640843</td>\n",
       "      <td>...</td>\n",
       "      <td>0.522754</td>\n",
       "      <td>0.502827</td>\n",
       "      <td>0.413638</td>\n",
       "      <td>01</td>\n",
       "      <td>06</td>\n",
       "      <td>01</td>\n",
       "      <td>homem</td>\n",
       "      <td>medo</td>\n",
       "      <td>normal</td>\n",
       "      <td>homem_medo</td>\n",
       "    </tr>\n",
       "  </tbody>\n",
       "</table>\n",
       "<p>5 rows × 27 columns</p>\n",
       "</div>"
      ],
      "text/plain": [
       "        mfcc0     mfcc1     mfcc2     mfcc3     mfcc4     mfcc5     mfcc6  \\\n",
       "0 -736.889404  0.000000  0.000000  0.000000  0.000000  0.000000  0.000000   \n",
       "1 -736.889404  0.000000  0.000000  0.000000  0.000000  0.000000  0.000000   \n",
       "2 -736.889404  0.000000  0.000000  0.000000  0.000000  0.000000  0.000000   \n",
       "3 -735.132080  2.316768  1.849498  1.178376  0.412101 -0.361496 -1.079493   \n",
       "4 -736.397583  0.652058  0.527373  0.337825  0.108193 -0.131628 -0.350683   \n",
       "\n",
       "      mfcc7     mfcc8     mfcc9  ...    mfcc17    mfcc18    mfcc19  \\\n",
       "0  0.000000  0.000000  0.000000  ...  0.000000  0.000000  0.000000   \n",
       "1  0.000000  0.000000  0.000000  ...  0.000000  0.000000  0.000000   \n",
       "2  0.000000  0.000000  0.000000  ...  0.000000  0.000000  0.000000   \n",
       "3 -1.683317 -2.101268 -2.258119  ...  1.584855  1.662810  1.519631   \n",
       "4 -0.521074 -0.621674 -0.640843  ...  0.522754  0.502827  0.413638   \n",
       "\n",
       "   ID_ATOR_SEXO  ID_EMOCAO  ID_INTENSIDADE_EMOCIONAL  LABEL_GENERO  \\\n",
       "0            01         06                        01         homem   \n",
       "1            01         06                        01         homem   \n",
       "2            01         06                        01         homem   \n",
       "3            01         06                        01         homem   \n",
       "4            01         06                        01         homem   \n",
       "\n",
       "   LABEL_EMOCAO  LABEL_INTENSIDADE  LABEL_GENERO_EMOCAO  \n",
       "0          medo             normal           homem_medo  \n",
       "1          medo             normal           homem_medo  \n",
       "2          medo             normal           homem_medo  \n",
       "3          medo             normal           homem_medo  \n",
       "4          medo             normal           homem_medo  \n",
       "\n",
       "[5 rows x 27 columns]"
      ]
     },
     "execution_count": 21,
     "metadata": {},
     "output_type": "execute_result"
    }
   ],
   "source": [
    "# Visualizando os dados\n",
    "df_final.head()"
   ]
  },
  {
   "cell_type": "markdown",
   "metadata": {
    "colab_type": "text",
    "id": "-SmdzIWatsoj"
   },
   "source": [
    "## Análise Exploratória"
   ]
  },
  {
   "cell_type": "code",
   "execution_count": 22,
   "metadata": {
    "colab": {
     "base_uri": "https://localhost:8080/",
     "height": 284
    },
    "colab_type": "code",
    "id": "j_tvSc20t-XL",
    "outputId": "3135ec22-6c4d-47a4-8555-47afbda27c94"
   },
   "outputs": [
    {
     "data": {
      "text/plain": [
       "<AxesSubplot:xlabel='LABEL_GENERO', ylabel='count'>"
      ]
     },
     "execution_count": 22,
     "metadata": {},
     "output_type": "execute_result"
    },
    {
     "data": {
      "image/png": "[encoded data removed]",
      "text/plain": [
       "<Figure size 432x288 with 1 Axes>"
      ]
     },
     "metadata": {
      "needs_background": "light"
     },
     "output_type": "display_data"
    }
   ],
   "source": [
    "# Verificando a distribuição de arquivos de áudio por gênero do ator\n",
    "sns.countplot(x = 'LABEL_GENERO', data = df_final)"
   ]
  },
  {
   "cell_type": "code",
   "execution_count": 23,
   "metadata": {
    "colab": {
     "base_uri": "https://localhost:8080/",
     "height": 284
    },
    "colab_type": "code",
    "id": "VBmmiEsmt-aB",
    "outputId": "d8687d6b-9db6-429d-b119-495fe6b79862"
   },
   "outputs": [
    {
     "data": {
      "text/plain": [
       "<AxesSubplot:xlabel='LABEL_EMOCAO', ylabel='count'>"
      ]
     },
     "execution_count": 23,
     "metadata": {},
     "output_type": "execute_result"
    },
    {
     "data": {
      "image/png": "[encoded data removed]",
      "text/plain": [
       "<Figure size 432x288 with 1 Axes>"
      ]
     },
     "metadata": {
      "needs_background": "light"
     },
     "output_type": "display_data"
    }
   ],
   "source": [
    "# Verificando a distribuição de arquivos de áudio por emoção do ator\n",
    "sns.countplot(x = 'LABEL_EMOCAO', data = df_final)"
   ]
  },
  {
   "cell_type": "code",
   "execution_count": 24,
   "metadata": {
    "colab": {
     "base_uri": "https://localhost:8080/",
     "height": 344
    },
    "colab_type": "code",
    "id": "7-WmxnZ5t-cm",
    "outputId": "3b8f5e14-eeee-4f2a-aeb7-d8276b8f939c"
   },
   "outputs": [
    {
     "data": {
      "text/plain": [
       "(array([ 0,  1,  2,  3,  4,  5,  6,  7,  8,  9, 10, 11]),\n",
       " [Text(0, 0, 'homem_medo'),\n",
       "  Text(1, 0, 'homem_neutro'),\n",
       "  Text(2, 0, 'homem_zangado'),\n",
       "  Text(3, 0, 'homem_feliz'),\n",
       "  Text(4, 0, 'homem_triste'),\n",
       "  Text(5, 0, 'homem_calmo'),\n",
       "  Text(6, 0, 'mulher_medo'),\n",
       "  Text(7, 0, 'mulher_triste'),\n",
       "  Text(8, 0, 'mulher_feliz'),\n",
       "  Text(9, 0, 'mulher_zangado'),\n",
       "  Text(10, 0, 'mulher_calmo'),\n",
       "  Text(11, 0, 'mulher_neutro')])"
      ]
     },
     "execution_count": 24,
     "metadata": {},
     "output_type": "execute_result"
    },
    {
     "data": {
      "image/png": "[encoded data removed]",
      "text/plain": [
       "<Figure size 864x288 with 1 Axes>"
      ]
     },
     "metadata": {
      "needs_background": "light"
     },
     "output_type": "display_data"
    }
   ],
   "source": [
    "# Verificando a distribuição de arquivos de áudio por gênero/emoção do ator\n",
    "plt.figure(figsize = (12,4))\n",
    "sns.countplot(x = 'LABEL_GENERO_EMOCAO', data = df_final)\n",
    "plt.xticks(rotation = 45)"
   ]
  },
  {
   "cell_type": "markdown",
   "metadata": {},
   "source": [
    "## Machine Learning"
   ]
  },
  {
   "cell_type": "markdown",
   "metadata": {},
   "source": [
    "### Modelo 1 - Prever o gênero do ator no áudio"
   ]
  },
  {
   "cell_type": "code",
   "execution_count": 25,
   "metadata": {
    "colab": {},
    "colab_type": "code",
    "id": "dTJFe4-rbVuf"
   },
   "outputs": [],
   "source": [
    "# Gerando o valor de x (sem os labels)\n",
    "X = df_final[df_final.columns[:-7]].values"
   ]
  },
  {
   "cell_type": "code",
   "execution_count": 26,
   "metadata": {},
   "outputs": [],
   "source": [
    "# Aplicando Label Encoder para converter a string em representação numérica\n",
    "y = LabelEncoder().fit_transform(df_final['LABEL_GENERO'])"
   ]
  },
  {
   "cell_type": "code",
   "execution_count": 27,
   "metadata": {
    "colab": {},
    "colab_type": "code",
    "id": "qj1w8oBncjzq"
   },
   "outputs": [],
   "source": [
    "# Divisão em dados de treino e de teste\n",
    "X_treino, X_teste, y_treino, y_teste = train_test_split(X, y, test_size = 0.33, stratify = y, shuffle = True)"
   ]
  },
  {
   "cell_type": "code",
   "execution_count": 28,
   "metadata": {},
   "outputs": [
    {
     "data": {
      "text/plain": [
       "(295862, 20)"
      ]
     },
     "execution_count": 28,
     "metadata": {},
     "output_type": "execute_result"
    }
   ],
   "source": [
    "# Shape\n",
    "X_treino.shape"
   ]
  },
  {
   "cell_type": "code",
   "execution_count": 29,
   "metadata": {},
   "outputs": [
    {
     "data": {
      "text/plain": [
       "(295862,)"
      ]
     },
     "execution_count": 29,
     "metadata": {},
     "output_type": "execute_result"
    }
   ],
   "source": [
    "# Shape\n",
    "y_treino.shape"
   ]
  },
  {
   "cell_type": "code",
   "execution_count": 30,
   "metadata": {},
   "outputs": [
    {
     "data": {
      "text/plain": [
       "(145724, 20)"
      ]
     },
     "execution_count": 30,
     "metadata": {},
     "output_type": "execute_result"
    }
   ],
   "source": [
    "# Shape\n",
    "X_teste.shape"
   ]
  },
  {
   "cell_type": "code",
   "execution_count": 31,
   "metadata": {},
   "outputs": [
    {
     "data": {
      "text/plain": [
       "(145724,)"
      ]
     },
     "execution_count": 31,
     "metadata": {},
     "output_type": "execute_result"
    }
   ],
   "source": [
    "# Shape\n",
    "y_teste.shape"
   ]
  },
  {
   "cell_type": "code",
   "execution_count": 32,
   "metadata": {},
   "outputs": [],
   "source": [
    "z_scaler = StandardScaler()\n",
    "# Aplicamos o scaler nos dados de treino\n",
    "fitted = z_scaler.fit(X_treino)\n",
    "\n",
    "# E transformamos dados de treino e de teste\n",
    "X_treino = fitted.transform(X_treino)\n",
    "X_teste = fitted.transform(X_teste)"
   ]
  },
  {
   "cell_type": "code",
   "execution_count": 33,
   "metadata": {},
   "outputs": [
    {
     "name": "stdout",
     "output_type": "stream",
     "text": [
      "\n",
      "Iniciando o treinamento...\n",
      "[09:03:13] WARNING: ../src/learner.cc:1061: Starting in XGBoost 1.3.0, the default evaluation metric used with the objective 'binary:logistic' was changed from 'error' to 'logloss'. Explicitly set eval_metric if you'd like to restore the old behavior.\n",
      "\n",
      "A Acurácia do Classificador é: 0.9236501880266805\n",
      "\n",
      "Confusion Matrix\n",
      "[[69567  5543]\n",
      " [ 5583 65031]]\n"
     ]
    }
   ],
   "source": [
    "xgb = XGBClassifier()\n",
    "print('\\nIniciando o treinamento...')\n",
    "\n",
    "xgb.fit(X_treino, y_treino)\n",
    "y_pred = xgb.predict(X_teste)\n",
    "\n",
    "acc = accuracy_score(y_teste, y_pred)\n",
    "print('\\nA Acurácia do Classificador é:', acc)\n",
    "\n",
    "cm = confusion_matrix(y_teste, y_pred)\n",
    "print('\\nConfusion Matrix')\n",
    "print(cm)"
   ]
  },
  {
   "cell_type": "code",
   "execution_count": 34,
   "metadata": {},
   "outputs": [
    {
     "name": "stdout",
     "output_type": "stream",
     "text": [
      "\n",
      "Iniciando o treinamento...\n",
      "\n",
      "A Acurácia do Classificador é: 0.9182907414015536\n",
      "\n",
      "Confusion Matrix\n",
      "[[69180  5930]\n",
      " [ 5977 64637]]\n"
     ]
    }
   ],
   "source": [
    "xgb = DecisionTreeClassifier()\n",
    "print('\\nIniciando o treinamento...')\n",
    "\n",
    "xgb.fit(X_treino, y_treino)\n",
    "y_pred = xgb.predict(X_teste)\n",
    "\n",
    "acc = accuracy_score(y_teste, y_pred)\n",
    "print('\\nA Acurácia do Classificador é:', acc)\n",
    "\n",
    "cm = confusion_matrix(y_teste, y_pred)\n",
    "print('\\nConfusion Matrix')\n",
    "print(cm)"
   ]
  },
  {
   "cell_type": "code",
   "execution_count": 35,
   "metadata": {},
   "outputs": [
    {
     "name": "stdout",
     "output_type": "stream",
     "text": [
      "\n",
      "Iniciando o treinamento...\n",
      "\n",
      "A Acurácia do Classificador é: 0.9458977244654277\n",
      "\n",
      "Confusion Matrix\n",
      "[[71979  3131]\n",
      " [ 4753 65861]]\n"
     ]
    }
   ],
   "source": [
    "xgb = RandomForestClassifier()\n",
    "print('\\nIniciando o treinamento...')\n",
    "\n",
    "xgb.fit(X_treino, y_treino)\n",
    "y_pred = xgb.predict(X_teste)\n",
    "\n",
    "acc = accuracy_score(y_teste, y_pred)\n",
    "print('\\nA Acurácia do Classificador é:', acc)\n",
    "\n",
    "cm = confusion_matrix(y_teste, y_pred)\n",
    "print('\\nConfusion Matrix')\n",
    "print(cm)"
   ]
  },
  {
   "cell_type": "markdown",
   "metadata": {},
   "source": [
    "### Modelo 2 - Prever gênero e emoção do ator no áudio"
   ]
  },
  {
   "cell_type": "code",
   "execution_count": 36,
   "metadata": {},
   "outputs": [],
   "source": [
    "# Gerando o valor de x (sem os labels)\n",
    "X1 = df_final[df_final.columns[:-7]].values"
   ]
  },
  {
   "cell_type": "code",
   "execution_count": 37,
   "metadata": {},
   "outputs": [],
   "source": [
    "# Aplicando Label Encoder para converter a string em representação numérica\n",
    "y1 = LabelEncoder().fit_transform(df_final['LABEL_GENERO_EMOCAO'])"
   ]
  },
  {
   "cell_type": "code",
   "execution_count": 38,
   "metadata": {},
   "outputs": [],
   "source": [
    "# Divisão em dados de treino e de teste\n",
    "X1_treino, X1_teste, y1_treino, y1_teste = train_test_split(X1, y1, test_size = 0.33, stratify = y, shuffle = True)"
   ]
  },
  {
   "cell_type": "code",
   "execution_count": 39,
   "metadata": {},
   "outputs": [
    {
     "data": {
      "text/plain": [
       "(295862, 20)"
      ]
     },
     "execution_count": 39,
     "metadata": {},
     "output_type": "execute_result"
    }
   ],
   "source": [
    "# Shape\n",
    "X1_treino.shape"
   ]
  },
  {
   "cell_type": "code",
   "execution_count": 40,
   "metadata": {},
   "outputs": [
    {
     "data": {
      "text/plain": [
       "(295862,)"
      ]
     },
     "execution_count": 40,
     "metadata": {},
     "output_type": "execute_result"
    }
   ],
   "source": [
    "# Shape\n",
    "y1_treino.shape"
   ]
  },
  {
   "cell_type": "code",
   "execution_count": 41,
   "metadata": {},
   "outputs": [
    {
     "data": {
      "text/plain": [
       "(145724, 20)"
      ]
     },
     "execution_count": 41,
     "metadata": {},
     "output_type": "execute_result"
    }
   ],
   "source": [
    "# Shape\n",
    "X1_teste.shape"
   ]
  },
  {
   "cell_type": "code",
   "execution_count": 42,
   "metadata": {},
   "outputs": [
    {
     "data": {
      "text/plain": [
       "(145724,)"
      ]
     },
     "execution_count": 42,
     "metadata": {},
     "output_type": "execute_result"
    }
   ],
   "source": [
    "# Shape\n",
    "y1_teste.shape"
   ]
  },
  {
   "cell_type": "code",
   "execution_count": 43,
   "metadata": {},
   "outputs": [],
   "source": [
    "# Aplicamos o scaler nos dados de treino\n",
    "fitted = z_scaler.fit(X1_treino)\n",
    "\n",
    "# E transformamos dados de treino e de teste\n",
    "X1_treino = fitted.transform(X1_treino)\n",
    "X1_teste = fitted.transform(X1_teste)"
   ]
  },
  {
   "cell_type": "code",
   "execution_count": 44,
   "metadata": {},
   "outputs": [
    {
     "name": "stdout",
     "output_type": "stream",
     "text": [
      "\n",
      "Iniciando o treinamento...\n",
      "[09:05:20] WARNING: ../src/learner.cc:1061: Starting in XGBoost 1.3.0, the default evaluation metric used with the objective 'multi:softprob' was changed from 'merror' to 'mlogloss'. Explicitly set eval_metric if you'd like to restore the old behavior.\n",
      "\n",
      "A Acurácia do Classificador é: 0.581489665394856\n",
      "\n",
      "Confusion Matrix\n",
      "[[10883   670   697   318  1377   116   268    80    52    41   131    23]\n",
      " [ 1158  6781  1432   209   806  1747   235   366   292    36   123   234]\n",
      " [ 1180  1439  5807   180  1280  1849   176   173   323    42   135   126]\n",
      " [ 1834   553   468  2095  1063   106   194    26    11    47    51    11]\n",
      " [ 2691   898  1307   329  7348   652   357   237   180    81   194    32]\n",
      " [  133  1386  1256    55   252  9166    43   181   315    16   104   653]\n",
      " [  381   177   126    40   164   163  9846   521   461   343  1450   368]\n",
      " [   23   201   190     6    73   271   670  7961  1040   181   514  1278]\n",
      " [   77   180   290    24   133   584  1015  1312  5736   136  1370  1407]\n",
      " [   87   128   102    18    87   185  1360   306   279  2806   836   102]\n",
      " [  262   277   175    31   146   374  2269   708   881   337  7473   389]\n",
      " [   12   106   127     4    29   679   197  1124   773    72   326  8835]]\n"
     ]
    }
   ],
   "source": [
    "xgb = XGBClassifier()\n",
    "print('\\nIniciando o treinamento...')\n",
    "\n",
    "xgb.fit(X1_treino, y1_treino)\n",
    "y_pred = xgb.predict(X1_teste)\n",
    "\n",
    "acc = accuracy_score(y1_teste, y_pred)\n",
    "print('\\nA Acurácia do Classificador é:', acc)\n",
    "\n",
    "cm = confusion_matrix(y1_teste, y_pred)\n",
    "print('\\nConfusion Matrix')\n",
    "print(cm)"
   ]
  },
  {
   "cell_type": "code",
   "execution_count": 45,
   "metadata": {},
   "outputs": [
    {
     "name": "stdout",
     "output_type": "stream",
     "text": [
      "\n",
      "Iniciando o treinamento...\n",
      "\n",
      "A Acurácia do Classificador é: 0.5807554006203508\n",
      "\n",
      "Confusion Matrix\n",
      "[[9057  889  924 1047 1641  282  238   79  136   96  212   55]\n",
      " [ 849 7330 1324  490  947 1304  166  198  288   96  219  208]\n",
      " [ 949 1359 6158  500 1183 1361  178  232  288   62  209  231]\n",
      " [ 918  571  493 3011  827  203  126   41   62   65  110   32]\n",
      " [1727  992 1313  905 7893  537  188  134  213  104  207   93]\n",
      " [ 253 1348 1396  211  548 8429   85  260  339   60  208  423]\n",
      " [ 252  162  179  134  250  100 9017  579  780  759 1489  339]\n",
      " [  87  196  193   54  143  262  599 7795 1028  333  667 1051]\n",
      " [ 136  270  329   92  204  347  768 1096 6524  382 1070 1046]\n",
      " [ 112   83   92   64  100   74  729  321  416 3500  647  158]\n",
      " [ 192  198  193   79  202  196 1494  690 1141  682 7851  404]\n",
      " [  56  252  212   41   80  493  298 1106 1003  207  471 8065]]\n"
     ]
    }
   ],
   "source": [
    "xgb = DecisionTreeClassifier()\n",
    "print('\\nIniciando o treinamento...')\n",
    "\n",
    "xgb.fit(X1_treino, y1_treino)\n",
    "y_pred = xgb.predict(X1_teste)\n",
    "\n",
    "acc = accuracy_score(y1_teste, y_pred)\n",
    "print('\\nA Acurácia do Classificador é:', acc)\n",
    "\n",
    "cm = confusion_matrix(y1_teste, y_pred)\n",
    "print('\\nConfusion Matrix')\n",
    "print(cm)"
   ]
  },
  {
   "cell_type": "code",
   "execution_count": 46,
   "metadata": {},
   "outputs": [
    {
     "name": "stdout",
     "output_type": "stream",
     "text": [
      "\n",
      "Iniciando o treinamento...\n",
      "\n",
      "A Acurácia do Classificador é: 0.743117125524965\n",
      "\n",
      "Confusion Matrix\n",
      "[[12477   342   373   191   869    93   136    20    36    30    86     3]\n",
      " [  846  9405   895   101   567  1014   116   107   144    27   102    95]\n",
      " [  869   794  8233   142   815  1270   107   107   191    26    79    77]\n",
      " [ 1430   322   291  3380   723    88   113    13    29    23    41     6]\n",
      " [ 1629   493   745   220 10400   414   144    63    81    25    69    23]\n",
      " [  148   907   823    35   225 10738    35   127   185    29    74   234]\n",
      " [  261   104   104    53   131    79 11703   254   249   155   795   152]\n",
      " [   34   188   182    17    77   227   487  9640   546    56   292   662]\n",
      " [   84   158   244    22   133   330   666   662  8272    69   820   804]\n",
      " [   88    90    64    33    84    79   890   178   169  4015   522    84]\n",
      " [  207   191   154    31   123   194  1199   355   509   119 10054   186]\n",
      " [   19   143   156     5    28   425   196   585   503    36   215  9973]]\n"
     ]
    }
   ],
   "source": [
    "xgb = RandomForestClassifier()\n",
    "print('\\nIniciando o treinamento...')\n",
    "\n",
    "xgb.fit(X1_treino, y1_treino)\n",
    "y_pred = xgb.predict(X1_teste)\n",
    "\n",
    "acc = accuracy_score(y1_teste, y_pred)\n",
    "print('\\nA Acurácia do Classificador é:', acc)\n",
    "\n",
    "cm = confusion_matrix(y1_teste, y_pred)\n",
    "print('\\nConfusion Matrix')\n",
    "print(cm)"
   ]
  }
 ],
 "metadata": {
  "accelerator": "GPU",
  "colab": {
   "collapsed_sections": [],
   "name": "Data Wrangling.ipynb",
   "provenance": [],
   "version": "0.3.2"
  },
  "kernelspec": {
   "display_name": "Python 3",
   "language": "python",
   "name": "python3"
  },
  "language_info": {
   "codemirror_mode": {
    "name": "ipython",
    "version": 3
   },
   "file_extension": ".py",
   "mimetype": "text/x-python",
   "name": "python",
   "nbconvert_exporter": "python",
   "pygments_lexer": "ipython3",
   "version": "3.6.13"
  }
 },
 "nbformat": 4,
 "nbformat_minor": 1
}
